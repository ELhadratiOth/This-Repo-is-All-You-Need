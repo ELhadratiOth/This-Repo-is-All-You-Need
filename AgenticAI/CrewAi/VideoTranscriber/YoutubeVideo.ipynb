{
 "cells": [
  {
   "cell_type": "code",
   "execution_count": 1,
   "metadata": {},
   "outputs": [],
   "source": [
    "from crewai import Agent , Task , Crew , Process , LLM\n",
    "from crewai.tools import tool\n",
    "from pydantic import BaseModel , Field\n",
    "from typing import List\n",
    "import os \n",
    "from dotenv import load_dotenv\n",
    "import json\n",
    "from youtube_transcript_api import YouTubeTranscriptApi\n"
   ]
  },
  {
   "cell_type": "code",
   "execution_count": 2,
   "metadata": {},
   "outputs": [],
   "source": [
    "class TranscriptElement(BaseModel):\n",
    "    text: str = Field(..., description=\"The text of the transcript\")\n",
    "    start: float = Field(..., description=\"The start time of the transcript\")\n",
    "    duration: float = Field(..., description=\"The duration of the transcript\")\n",
    "\n",
    "\n",
    "class YoutubeVideoTranscript(BaseModel):\n",
    "    transcriptions : list[TranscriptElement] = Field(..., description=\"The result of the transcript\")\n",
    "\n",
    "class YoutubeVideoSummarization(BaseModel):\n",
    "    summurazation : str = Field(..., description=\"Summurazation of the video transcription\")\n",
    "\n",
    "\n",
    "class Resource(BaseModel):\n",
    "    title : str = Field(..., description=\"Title  of the resource\")\n",
    "    link : str = Field(..., description=\"url  of the resource\")\n",
    "    type_r: str = Field(..., description=\"type  of  the  resource (article , video , etc)\")\n",
    "    more_details : str =  Field(..., description=\"any important detail about the resource that can help\")\n",
    "\n",
    "class YoutubeSammuryAndResources(BaseModel):\n",
    "        summurazation : str = Field(..., description=\"Summurazation of the video transcription\")\n",
    "        resources : list[Resource]\n",
    "\n",
    "\n"
   ]
  },
  {
   "cell_type": "code",
   "execution_count": 3,
   "metadata": {},
   "outputs": [],
   "source": [
    "load_dotenv(override=True)\n",
    "os.environ[\"GEMINI_API_KEY\"] = os.getenv(\"GOOGLE_API_KEY\")\n",
    "llm=LLM(\n",
    "        model=\"gemini/gemini-1.5-pro\",\n",
    "        temperature=0,\n",
    "        # verbose=True,    \n",
    "        )\n"
   ]
  },
  {
   "cell_type": "code",
   "execution_count": 5,
   "metadata": {},
   "outputs": [],
   "source": [
    "@tool\n",
    "def get_transcript(yt_id: str) -> YoutubeVideoTranscript:\n",
    "    \"\"\"this tool is use to get the transcript of a given youtube video ID , the  ID is  in the  link  of the video  itself \n",
    "    the output of \n",
    "    get_transcript(\"yt_id\") -> [{'text': 'multi-agent system where multiple AI', 'start': 45.199, 'duration': 5.84},{},...]\n",
    "    \"\"\"\n",
    "    transcript = YouTubeTranscriptApi().transcript(url)\n",
    "    return transcript\n",
    "\n",
    "from crewai_tools import SerperDevTool\n",
    "Web_search  = SerperDevTool()"
   ]
  },
  {
   "cell_type": "code",
   "execution_count": 7,
   "metadata": {},
   "outputs": [],
   "source": [
    "researcher_agent = Agent(\n",
    "    role=\"Researcher Agent\",\n",
    "    goal=\"the  goal is it  get the transcription of  a given url : {url}\",\n",
    "    llm=llm,\n",
    "    backstory=\"The agent is  designed to  extract the  transcription of youtube video in a good way  \",\n",
    "    tools=[get_transcript],\n",
    "    verbose=True,\n",
    "\n",
    ")\n",
    "\n",
    "resarsher_task = Task(\n",
    "    description=\"\"\"the  task is get the  transcription of  a video and return it in a good way ,\n",
    "    \"\"\",\n",
    "    expected_output=\"a JSON object containing all starts of a transcription and there duration and  there transcription \",\n",
    "    output_json=YoutubeVideoTranscript,\n",
    "    output_file = \"./video_transcription.json\",\n",
    "    agent=researcher_agent,\n",
    "  \n",
    ")"
   ]
  },
  {
   "cell_type": "code",
   "execution_count": 8,
   "metadata": {},
   "outputs": [],
   "source": [
    "sammurizer_agent = Agent(\n",
    "    role=\"Summarizer Agent\",\n",
    "    goal=\"the  goal is to  summarize the transcription in a simple way\",\n",
    "    llm=llm,\n",
    "    backstory=\"The agent is  designed to  make a good summarization  of  a given video transcription\",\n",
    "    verbose=True,\n",
    "\n",
    ")\n",
    "\n",
    "summurizer_task = Task(\n",
    "    description=\"the  goeal is to  generate a good sammurry from a video transcription \",\n",
    "    expected_output=\"a JSON object containing the transcription and  a summarization \",\n",
    "    output_json=YoutubeVideoSummarization,\n",
    "    output_file = \"./video_summary.json\",\n",
    "    agent=sammurizer_agent,\n",
    "                \n",
    ")\n"
   ]
  },
  {
   "cell_type": "code",
   "execution_count": 17,
   "metadata": {},
   "outputs": [
    {
     "ename": "ValidationError",
     "evalue": "1 validation error for Task\nexpected_output\n  Field required [type=missing, input_value={'description': '\\n    th...ubject of the  video  )}, input_type=dict]\n    For further information visit https://errors.pydantic.dev/2.10/v/missing",
     "output_type": "error",
     "traceback": [
      "\u001b[1;31m---------------------------------------------------------------------------\u001b[0m",
      "\u001b[1;31mValidationError\u001b[0m                           Traceback (most recent call last)",
      "Cell \u001b[1;32mIn[17], line 10\u001b[0m\n\u001b[0;32m      1\u001b[0m quey_websearch_agent \u001b[38;5;241m=\u001b[39m Agent(\n\u001b[0;32m      2\u001b[0m     role\u001b[38;5;241m=\u001b[39m\u001b[38;5;124m\"\u001b[39m\u001b[38;5;124mWeb Searcher Agent\u001b[39m\u001b[38;5;124m\"\u001b[39m,\n\u001b[0;32m      3\u001b[0m     goal\u001b[38;5;241m=\u001b[39m\u001b[38;5;124m\"\u001b[39m\u001b[38;5;124mthe  goal add some usefull information about the video\u001b[39m\u001b[38;5;124m\"\u001b[39m,\n\u001b[1;32m   (...)\u001b[0m\n\u001b[0;32m      7\u001b[0m     verbose\u001b[38;5;241m=\u001b[39m\u001b[38;5;28;01mTrue\u001b[39;00m,\n\u001b[0;32m      8\u001b[0m )\n\u001b[1;32m---> 10\u001b[0m query_websearch_task \u001b[38;5;241m=\u001b[39m \u001b[43mTask\u001b[49m\u001b[43m(\u001b[49m\n\u001b[0;32m     11\u001b[0m \u001b[43m    \u001b[49m\u001b[43mdescription\u001b[49m\u001b[38;5;241;43m=\u001b[39;49m\u001b[38;5;124;43m\"\"\"\u001b[39;49m\n\u001b[0;32m     12\u001b[0m \u001b[38;5;124;43m    the  goal is to  get  some links that can help to  have more resources od  knowledge .\u001b[39;49m\n\u001b[0;32m     13\u001b[0m \u001b[38;5;124;43m    the  given sammury you should keep it  to  return it at the  end also , remember this ! , \u001b[39;49m\n\u001b[0;32m     14\u001b[0m \u001b[38;5;124;43m    \u001b[39;49m\u001b[38;5;124;43m\"\"\"\u001b[39;49m\u001b[43m,\u001b[49m\n\u001b[0;32m     15\u001b[0m \u001b[43m    \u001b[49m\u001b[43moutput_json\u001b[49m\u001b[38;5;241;43m=\u001b[39;49m\u001b[43mYoutubeSammuryAndResources\u001b[49m\u001b[43m,\u001b[49m\n\u001b[0;32m     16\u001b[0m \u001b[43m    \u001b[49m\u001b[43moutput_file\u001b[49m\u001b[43m \u001b[49m\u001b[38;5;241;43m=\u001b[39;49m\u001b[43m \u001b[49m\u001b[38;5;124;43m\"\u001b[39;49m\u001b[38;5;124;43m./summary_and_resourses.json\u001b[39;49m\u001b[38;5;124;43m\"\u001b[39;49m\u001b[43m,\u001b[49m\n\u001b[0;32m     17\u001b[0m \u001b[43m    \u001b[49m\u001b[43magent\u001b[49m\u001b[38;5;241;43m=\u001b[39;49m\u001b[43mquey_websearch_agent\u001b[49m\u001b[43m,\u001b[49m\n\u001b[0;32m     18\u001b[0m \u001b[43m                \u001b[49m\n\u001b[0;32m     19\u001b[0m \u001b[43m)\u001b[49m\n",
      "File \u001b[1;32m~\\AppData\\Roaming\\Python\\Python312\\site-packages\\pydantic\\main.py:214\u001b[0m, in \u001b[0;36mBaseModel.__init__\u001b[1;34m(self, **data)\u001b[0m\n\u001b[0;32m    212\u001b[0m \u001b[38;5;66;03m# `__tracebackhide__` tells pytest and some other tools to omit this function from tracebacks\u001b[39;00m\n\u001b[0;32m    213\u001b[0m __tracebackhide__ \u001b[38;5;241m=\u001b[39m \u001b[38;5;28;01mTrue\u001b[39;00m\n\u001b[1;32m--> 214\u001b[0m validated_self \u001b[38;5;241m=\u001b[39m \u001b[38;5;28;43mself\u001b[39;49m\u001b[38;5;241;43m.\u001b[39;49m\u001b[43m__pydantic_validator__\u001b[49m\u001b[38;5;241;43m.\u001b[39;49m\u001b[43mvalidate_python\u001b[49m\u001b[43m(\u001b[49m\u001b[43mdata\u001b[49m\u001b[43m,\u001b[49m\u001b[43m \u001b[49m\u001b[43mself_instance\u001b[49m\u001b[38;5;241;43m=\u001b[39;49m\u001b[38;5;28;43mself\u001b[39;49m\u001b[43m)\u001b[49m\n\u001b[0;32m    215\u001b[0m \u001b[38;5;28;01mif\u001b[39;00m \u001b[38;5;28mself\u001b[39m \u001b[38;5;129;01mis\u001b[39;00m \u001b[38;5;129;01mnot\u001b[39;00m validated_self:\n\u001b[0;32m    216\u001b[0m     warnings\u001b[38;5;241m.\u001b[39mwarn(\n\u001b[0;32m    217\u001b[0m         \u001b[38;5;124m'\u001b[39m\u001b[38;5;124mA custom validator is returning a value other than `self`.\u001b[39m\u001b[38;5;130;01m\\n\u001b[39;00m\u001b[38;5;124m'\u001b[39m\n\u001b[0;32m    218\u001b[0m         \u001b[38;5;124m\"\u001b[39m\u001b[38;5;124mReturning anything other than `self` from a top level model validator isn\u001b[39m\u001b[38;5;124m'\u001b[39m\u001b[38;5;124mt supported when validating via `__init__`.\u001b[39m\u001b[38;5;130;01m\\n\u001b[39;00m\u001b[38;5;124m\"\u001b[39m\n\u001b[0;32m    219\u001b[0m         \u001b[38;5;124m'\u001b[39m\u001b[38;5;124mSee the `model_validator` docs (https://docs.pydantic.dev/latest/concepts/validators/#model-validators) for more details.\u001b[39m\u001b[38;5;124m'\u001b[39m,\n\u001b[0;32m    220\u001b[0m         stacklevel\u001b[38;5;241m=\u001b[39m\u001b[38;5;241m2\u001b[39m,\n\u001b[0;32m    221\u001b[0m     )\n",
      "\u001b[1;31mValidationError\u001b[0m: 1 validation error for Task\nexpected_output\n  Field required [type=missing, input_value={'description': '\\n    th...ubject of the  video  )}, input_type=dict]\n    For further information visit https://errors.pydantic.dev/2.10/v/missing"
     ]
    }
   ],
   "source": [
    "quey_websearch_agent = Agent(\n",
    "    role=\"Web Searcher Agent\",\n",
    "    goal=\"the  goal add some usefull information about the video\",\n",
    "    llm=llm,\n",
    "    backstory=\"the  agent  is designed to add some resources like  video links or articles etc , based on the main subject of the  video  \",\n",
    "    tools=[Web_search],\n",
    "    verbose=True,\n",
    ")\n",
    "\n",
    "query_websearch_task = Task(\n",
    "    description=\"\"\"\n",
    "    the  goal is to  get  some links that can help to  have more resources od  knowledge .\n",
    "    the  given sammury you should keep it  to  return it at the  end also , remember this ! , \n",
    "    \"\"\",\n",
    "    output_json=YoutubeSammuryAndResources,\n",
    "    output_file = \"./summary_and_resourses.json\",\n",
    "    agent=quey_websearch_agent,\n",
    "                \n",
    ")\n"
   ]
  },
  {
   "cell_type": "code",
   "execution_count": null,
   "metadata": {},
   "outputs": [],
   "source": [
    "thinker_agent = Agent(\n",
    "    role=\"thinker Agent\",\n",
    "    goal=\"the  goal is to  make  the  final result more structure in a mardown format\",\n",
    "    llm=llm,\n",
    "    backstory=\"the  agent  is designed to make the  makdown file  more accurate  and readble in a better way  \",\n",
    "    verbose=True,\n",
    ")\n",
    "\n",
    "thinker_task = Task(\n",
    "    description=\"\"\"\n",
    "    the  goal is provide a markdown file that can be used to get an overview of  the  given subject \n",
    "    \"\"\",\n",
    "    output_file = \"./result.md\",\n",
    "    agent=thinker_agent,\n",
    "                \n",
    ")"
   ]
  },
  {
   "cell_type": "code",
   "execution_count": null,
   "metadata": {},
   "outputs": [],
   "source": [
    "crew = Crew(\n",
    "    agents=[researcher_agent, sammurizer_agent, quey_websearch_agent, thinker_agent],\n",
    "    tasks=[resarsher_task, summurizer_task, query_websearch_task, thinker_task],\n",
    "    process=Process.sequential,\n",
    "    verbose=True,\n",
    ")"
   ]
  },
  {
   "cell_type": "code",
   "execution_count": null,
   "metadata": {},
   "outputs": [],
   "source": [
    "crew.kickoff(input={\"url\"=\"https://youtu.be/coVbtFlT9Qc?si=YsWVGCrsjp9rfLCz\"})"
   ]
  },
  {
   "cell_type": "code",
   "execution_count": null,
   "metadata": {},
   "outputs": [],
   "source": []
  },
  {
   "cell_type": "code",
   "execution_count": null,
   "metadata": {},
   "outputs": [],
   "source": []
  }
 ],
 "metadata": {
  "kernelspec": {
   "display_name": "Python 3",
   "language": "python",
   "name": "python3"
  },
  "language_info": {
   "codemirror_mode": {
    "name": "ipython",
    "version": 3
   },
   "file_extension": ".py",
   "mimetype": "text/x-python",
   "name": "python",
   "nbconvert_exporter": "python",
   "pygments_lexer": "ipython3",
   "version": "3.12.4"
  }
 },
 "nbformat": 4,
 "nbformat_minor": 2
}
