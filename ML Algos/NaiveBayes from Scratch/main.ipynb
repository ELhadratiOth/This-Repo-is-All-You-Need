{
 "cells": [
  {
   "cell_type": "code",
   "execution_count": 53,
   "metadata": {},
   "outputs": [],
   "source": [
    "import numpy as  np\n",
    "import matplotlib.pyplot as plt\n",
    "import pandas as pd"
   ]
  },
  {
   "cell_type": "code",
   "execution_count": 54,
   "metadata": {},
   "outputs": [
    {
     "data": {
      "text/html": [
       "<div>\n",
       "<style scoped>\n",
       "    .dataframe tbody tr th:only-of-type {\n",
       "        vertical-align: middle;\n",
       "    }\n",
       "\n",
       "    .dataframe tbody tr th {\n",
       "        vertical-align: top;\n",
       "    }\n",
       "\n",
       "    .dataframe thead th {\n",
       "        text-align: right;\n",
       "    }\n",
       "</style>\n",
       "<table border=\"1\" class=\"dataframe\">\n",
       "  <thead>\n",
       "    <tr style=\"text-align: right;\">\n",
       "      <th></th>\n",
       "      <th>glucose</th>\n",
       "      <th>bloodpressure</th>\n",
       "      <th>diabetes</th>\n",
       "    </tr>\n",
       "  </thead>\n",
       "  <tbody>\n",
       "    <tr>\n",
       "      <th>0</th>\n",
       "      <td>40</td>\n",
       "      <td>85</td>\n",
       "      <td>0</td>\n",
       "    </tr>\n",
       "    <tr>\n",
       "      <th>1</th>\n",
       "      <td>40</td>\n",
       "      <td>92</td>\n",
       "      <td>0</td>\n",
       "    </tr>\n",
       "    <tr>\n",
       "      <th>2</th>\n",
       "      <td>45</td>\n",
       "      <td>63</td>\n",
       "      <td>1</td>\n",
       "    </tr>\n",
       "    <tr>\n",
       "      <th>3</th>\n",
       "      <td>45</td>\n",
       "      <td>80</td>\n",
       "      <td>0</td>\n",
       "    </tr>\n",
       "    <tr>\n",
       "      <th>4</th>\n",
       "      <td>40</td>\n",
       "      <td>73</td>\n",
       "      <td>1</td>\n",
       "    </tr>\n",
       "  </tbody>\n",
       "</table>\n",
       "</div>"
      ],
      "text/plain": [
       "   glucose  bloodpressure  diabetes\n",
       "0       40             85         0\n",
       "1       40             92         0\n",
       "2       45             63         1\n",
       "3       45             80         0\n",
       "4       40             73         1"
      ]
     },
     "execution_count": 54,
     "metadata": {},
     "output_type": "execute_result"
    }
   ],
   "source": [
    "data_file = 'Naive-Bayes-Classification-Data.csv'\n",
    "data = pd.read_csv(data_file)\n",
    "data.head()"
   ]
  },
  {
   "cell_type": "code",
   "execution_count": 55,
   "metadata": {},
   "outputs": [
    {
     "name": "stdout",
     "output_type": "stream",
     "text": [
      "<class 'pandas.core.frame.DataFrame'>\n",
      "RangeIndex: 995 entries, 0 to 994\n",
      "Data columns (total 3 columns):\n",
      " #   Column         Non-Null Count  Dtype\n",
      "---  ------         --------------  -----\n",
      " 0   glucose        995 non-null    int64\n",
      " 1   bloodpressure  995 non-null    int64\n",
      " 2   diabetes       995 non-null    int64\n",
      "dtypes: int64(3)\n",
      "memory usage: 23.4 KB\n"
     ]
    }
   ],
   "source": [
    "data.info()"
   ]
  },
  {
   "cell_type": "code",
   "execution_count": 56,
   "metadata": {},
   "outputs": [
    {
     "data": {
      "image/png": "[encoded data removed]",
      "text/plain": [
       "<Figure size 640x480 with 1 Axes>"
      ]
     },
     "metadata": {},
     "output_type": "display_data"
    }
   ],
   "source": [
    "diabetes_counts = data['diabetes'].value_counts()\n",
    "plt.bar(diabetes_counts.index, diabetes_counts.values , color = ['blue', 'red'])\n",
    "plt.xlabel('Diabetes')\n",
    "plt.ylabel('Count')\n",
    "plt.show()\n",
    "\n",
    "# we can notice that the data is balanced"
   ]
  },
  {
   "cell_type": "code",
   "execution_count": 57,
   "metadata": {},
   "outputs": [],
   "source": [
    "def calculate_prior(data):\n",
    "    return data['diabetes'].value_counts() / len(data)\n",
    "p_1 , p_0 = calculate_prior(data)\n",
    "#p(yes) = 0.5005\n",
    "#p(no) = 0.4995"
   ]
  },
  {
   "cell_type": "code",
   "execution_count": 58,
   "metadata": {},
   "outputs": [],
   "source": [
    "#Likelihood\n",
    "# p(x/X)   , x is {yse  , no} , X is {x1 , x2 , x3 , x4 , x5}\n",
    "# features = ['glucose' , 'bloodpressure']\n",
    "# def calculate_likelihood(data):\n",
    "#           likelihood = {  }\n",
    "#           for feat in features :\n",
    "#                     print(data['diabetes'].unique())\n",
    "#                     for output in data['diabetes'].unique() :\n",
    "                              \n",
    "#                               output_count =  sum(data['diabetes'] == output)\n",
    "#                               print(\"val : \" + str(output_count)) \n",
    "#                               for elem in data[feat].value_counts() :\n",
    "#                                         feat_count = sum( data[feat] == elem)\n",
    "#                                         likelihood[f'{elem}_{output}'] = feat_count / output_count\n",
    "\n",
    "#           return likelihood\n",
    "\n",
    "# calculate_likelihood(data)\n",
    "#this  for  a categical data\n",
    "    "
   ]
  },
  {
   "cell_type": "code",
   "execution_count": 59,
   "metadata": {},
   "outputs": [
    {
     "data": {
      "text/plain": [
       "{'glucose_0': 0.0,\n",
       " 'glucose_1': 0.0,\n",
       " 'bloodpressure_0': 0.0,\n",
       " 'bloodpressure_1': 0.0}"
      ]
     },
     "execution_count": 59,
     "metadata": {},
     "output_type": "execute_result"
    }
   ],
   "source": [
    "import numpy as np\n",
    "\n",
    "features = ['glucose', 'bloodpressure']\n",
    "\n",
    "def calculate_likelihood(data):\n",
    "    # Reset likelihoods for each calculation\n",
    "    local_likelihood = { 'glucose_0': 1, 'glucose_1': 1, 'bloodpressure_0': 1, 'bloodpressure_1': 1 }\n",
    "    \n",
    "    for feat in features:\n",
    "        for output in data['diabetes'].unique():\n",
    "            # Calculate mean and standard deviation\n",
    "            mean = data[data['diabetes'] == output][feat].mean()\n",
    "            std = data[data['diabetes'] == output][feat].std()\n",
    "            std = std if std > 0 else 1e-6  # Avoid division by zero\n",
    "            \n",
    "            # Calculate likelihood for each feature value in the output class\n",
    "            for elem in data[data['diabetes'] == output][feat]:\n",
    "                local_likelihood[f'{feat}_{output}'] *= (1 / np.sqrt(2 * np.pi * std)) * np.exp(- (elem - mean) ** 2 / (2 * std**2))\n",
    "                \n",
    "    return local_likelihood\n",
    "\n",
    "# Use the function and update the likelihoods\n",
    "likelihood = calculate_likelihood(data)\n",
    "likelihood\n"
   ]
  },
  {
   "cell_type": "code",
   "execution_count": null,
   "metadata": {},
   "outputs": [],
   "source": []
  }
 ],
 "metadata": {
  "kernelspec": {
   "display_name": "Python 3",
   "language": "python",
   "name": "python3"
  },
  "language_info": {
   "codemirror_mode": {
    "name": "ipython",
    "version": 3
   },
   "file_extension": ".py",
   "mimetype": "text/x-python",
   "name": "python",
   "nbconvert_exporter": "python",
   "pygments_lexer": "ipython3",
   "version": "3.12.4"
  }
 },
 "nbformat": 4,
 "nbformat_minor": 2
}
