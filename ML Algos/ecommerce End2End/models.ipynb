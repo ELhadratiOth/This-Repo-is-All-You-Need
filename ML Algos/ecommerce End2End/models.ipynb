{
 "cells": [
  {
   "cell_type": "code",
   "execution_count": 165,
   "metadata": {},
   "outputs": [],
   "source": [
    "import numpy as np # type: ignore\n",
    "import matplotlib.pyplot as plt # type: ignore\n",
    "import pandas as pd # type: ignore\n",
    "from sklearn.model_selection import train_test_split # type: ignore"
   ]
  },
  {
   "cell_type": "code",
   "execution_count": 166,
   "metadata": {},
   "outputs": [
    {
     "data": {
      "text/plain": [
       "(132, 187)"
      ]
     },
     "execution_count": 166,
     "metadata": {},
     "output_type": "execute_result"
    }
   ],
   "source": [
    "data = pd.read_csv(\"cleaned_data.csv\")\n",
    "X =data.drop('Discount Price', axis=1)\n",
    "y = data['Discount Price']\n",
    "X_train, X_test, y_train, y_test = train_test_split(X, y, test_size=0.2)\n",
    "X_train.shape"
   ]
  },
  {
   "cell_type": "code",
   "execution_count": 167,
   "metadata": {},
   "outputs": [
    {
     "name": "stdout",
     "output_type": "stream",
     "text": [
      "Linear Regression\n",
      "Mean Absolute Percentage Error:  684.467552085746\n",
      "Mean Absolute Error:  2000430.5613598505\n",
      "Prediction for the first element in X_train:  [188708.58694787]\n",
      "Actual value for the first element in X_train:  4700.0000000172\n"
     ]
    },
    {
     "name": "stderr",
     "output_type": "stream",
     "text": [
      "c:\\Python312\\Lib\\site-packages\\sklearn\\base.py:493: UserWarning: X does not have valid feature names, but LinearRegression was fitted with feature names\n",
      "  warnings.warn(\n"
     ]
    }
   ],
   "source": [
    "from sklearn.linear_model import LinearRegression\n",
    "from sklearn.metrics import mean_absolute_percentage_error, mean_absolute_error\n",
    "\n",
    "linear_reggression_model = LinearRegression()\n",
    "linear_reggression_model.fit(X_train, y_train)\n",
    "yhat = linear_reggression_model.predict(X_test)\n",
    "print(\"Linear Regression\")\n",
    "print(\"Mean Absolute Percentage Error: \", mean_absolute_percentage_error(y_test, yhat))\n",
    "print(\"Mean Absolute Error: \", mean_absolute_error(y_test, yhat))\n",
    "first_element_prediction = linear_reggression_model.predict([X_test.iloc[0]])\n",
    "print(\"Prediction for the first element in X_train: \", first_element_prediction)\n",
    "print(\"Actual value for the first element in X_train: \", y_test.iloc[0])\n",
    "\n",
    "\n"
   ]
  },
  {
   "cell_type": "code",
   "execution_count": 168,
   "metadata": {},
   "outputs": [
    {
     "name": "stdout",
     "output_type": "stream",
     "text": [
      "Decision Tree\n",
      "Mean Absolute Percentage Error:  0.1137819797803721\n",
      "Mean Absolute Error:  436.88235298173254\n",
      "Prediction for the first element in X_train:  [4600.0000001]\n",
      "Actual value for the first element in X_train:  4700.0000000172\n"
     ]
    },
    {
     "name": "stderr",
     "output_type": "stream",
     "text": [
      "c:\\Python312\\Lib\\site-packages\\sklearn\\base.py:493: UserWarning: X does not have valid feature names, but DecisionTreeRegressor was fitted with feature names\n",
      "  warnings.warn(\n"
     ]
    }
   ],
   "source": [
    "from sklearn.tree import DecisionTreeRegressor\n",
    "decision_tree_model = DecisionTreeRegressor()\n",
    "decision_tree_model.fit(X_train, y_train)\n",
    "yhat = decision_tree_model.predict(X_test)\n",
    "print(\"Decision Tree\")\n",
    "print(\"Mean Absolute Percentage Error: \", mean_absolute_percentage_error(y_test, yhat))\n",
    "print(\"Mean Absolute Error: \", mean_absolute_error(y_test, yhat))\n",
    "first_element_prediction = decision_tree_model.predict([X_test.iloc[0]])\n",
    "print(\"Prediction for the first element in X_train: \", first_element_prediction)\n",
    "print(\"Actual value for the first element in X_train: \", y_test.iloc[0])\n"
   ]
  },
  {
   "cell_type": "code",
   "execution_count": 169,
   "metadata": {},
   "outputs": [
    {
     "name": "stdout",
     "output_type": "stream",
     "text": [
      "Random Forest\n",
      "Mean Absolute Percentage Error:  0.16720855379213906\n",
      "Mean Absolute Error:  428.36558826223035\n"
     ]
    },
    {
     "name": "stderr",
     "output_type": "stream",
     "text": [
      "c:\\Python312\\Lib\\site-packages\\sklearn\\base.py:493: UserWarning: X does not have valid feature names, but RandomForestRegressor was fitted with feature names\n",
      "  warnings.warn(\n"
     ]
    },
    {
     "name": "stdout",
     "output_type": "stream",
     "text": [
      "Prediction for the first element in X_train:  [4363.99]\n",
      "Actual value for the first element in X_train:  4700.0000000172\n"
     ]
    }
   ],
   "source": [
    "from sklearn.ensemble import RandomForestRegressor\n",
    "random_forest_model = RandomForestRegressor()\n",
    "random_forest_model.fit(X_train, y_train)\n",
    "yhat = random_forest_model.predict(X_test)\n",
    "\n",
    "print(\"Random Forest\")\n",
    "\n",
    "print(\"Mean Absolute Percentage Error: \", mean_absolute_percentage_error(y_test, yhat))\n",
    "print(\"Mean Absolute Error: \", mean_absolute_error(y_test, yhat))\n",
    "first_element_prediction = random_forest_model.predict([X_test.iloc[0]])\n",
    "print(\"Prediction for the first element in X_train: \", first_element_prediction)\n",
    "print(\"Actual value for the first element in X_train: \", y_test.iloc[0])\n"
   ]
  },
  {
   "cell_type": "code",
   "execution_count": 170,
   "metadata": {},
   "outputs": [
    {
     "name": "stdout",
     "output_type": "stream",
     "text": [
      "XGBoost\n",
      "Mean Absolute Percentage Error:  0.12420990232561856\n",
      "Mean Absolute Error:  363.31589465830206\n",
      "Prediction for the first element in X_train:  [4420.5996]\n",
      "Actual value for the first element in X_train:  4700.0000000172\n"
     ]
    }
   ],
   "source": [
    "import xgboost as xgb\n",
    "xgb_model = xgb.XGBRegressor()\n",
    "xgb_model.fit(X_train, y_train)\n",
    "yhat = xgb_model.predict(X_test)\n",
    "\n",
    "print(\"XGBoost\")\n",
    "\n",
    "print(\"Mean Absolute Percentage Error: \", mean_absolute_percentage_error(y_test, yhat))\n",
    "print(\"Mean Absolute Error: \", mean_absolute_error(y_test, yhat))\n",
    "first_element_prediction = xgb_model.predict([X_test.iloc[0]])\n",
    "print(\"Prediction for the first element in X_train: \", first_element_prediction)\n",
    "print(\"Actual value for the first element in X_train: \", y_test.iloc[0])"
   ]
  },
  {
   "cell_type": "code",
   "execution_count": 171,
   "metadata": {},
   "outputs": [
    {
     "name": "stdout",
     "output_type": "stream",
     "text": [
      "Linear Regression\n",
      "Cross-validation scores:  [-3.54158220e+02  7.68098529e-01 -2.52652618e+06 -7.45459274e+05\n",
      " -1.64219573e+06]  Mean:  -982906.9145276544  Std:  980338.8174321357\n"
     ]
    }
   ],
   "source": [
    "from sklearn.model_selection import cross_val_score\n",
    "\n",
    "scores = cross_val_score(linear_reggression_model, X, y, cv=5, scoring='r2')\n",
    "print(\"Linear Regression\")\n",
    "print(\"Cross-validation scores: \", scores, \" Mean: \", scores.mean(), \" Std: \", scores.std())\n",
    "\n"
   ]
  },
  {
   "cell_type": "code",
   "execution_count": 172,
   "metadata": {},
   "outputs": [
    {
     "name": "stdout",
     "output_type": "stream",
     "text": [
      "Decision Tree\n",
      "Cross-validation scores:  [0.79627266 0.89824348 0.81682884 0.6471201  0.47768503]  Mean:  0.7272300221554838  Std:  0.14881582071284546\n"
     ]
    }
   ],
   "source": [
    "scores = cross_val_score(decision_tree_model, X, y, cv=5, scoring='r2')\n",
    "print(\"Decision Tree\")\n",
    "print(\"Cross-validation scores: \", scores, \" Mean: \", scores.mean(), \" Std: \", scores.std())\n",
    "\n"
   ]
  },
  {
   "cell_type": "code",
   "execution_count": 173,
   "metadata": {},
   "outputs": [
    {
     "name": "stdout",
     "output_type": "stream",
     "text": [
      "Random Forest\n",
      "Cross-validation scores:  [0.88490785 0.87453254 0.85856949 0.6940737  0.80900009]  Mean:  0.8242167332766348  Std:  0.07009131243938725\n"
     ]
    }
   ],
   "source": [
    "scores = cross_val_score(random_forest_model, X, y, cv=5 , scoring='r2')\n",
    "print(\"Random Forest\")\n",
    "print(\"Cross-validation scores: \" ,  scores , \" Mean: \", scores.mean() , \" Std: \", scores.std()) \n"
   ]
  },
  {
   "cell_type": "code",
   "execution_count": 174,
   "metadata": {},
   "outputs": [
    {
     "name": "stdout",
     "output_type": "stream",
     "text": [
      "XGBoost\n",
      "Cross-validation scores:  [0.90190785 0.89437504 0.91555352 0.79630468 0.57973451]  Mean:  0.817575121258811  Std:  0.1261987263368479\n"
     ]
    }
   ],
   "source": [
    "scores = cross_val_score(xgb_model, X, y, cv=5 , scoring='r2')\n",
    "print(\"XGBoost\")\n",
    "print(\"Cross-validation scores: \" ,  scores , \" Mean: \", scores.mean() , \" Std: \", scores.std()) \n"
   ]
  },
  {
   "cell_type": "markdown",
   "metadata": {},
   "source": [
    "### tuning the  XGBoost"
   ]
  },
  {
   "cell_type": "code",
   "execution_count": 175,
   "metadata": {},
   "outputs": [
    {
     "name": "stdout",
     "output_type": "stream",
     "text": [
      "XGBoost Grid Search\n",
      "Mean Absolute Percentage Error:  0.12420990232561856\n",
      "Mean Absolute Error:  363.31589465830206\n",
      "Prediction for the first element in X_train:  [4292.8687]\n",
      "Actual value for the first element in X_train:  4700.0000000172\n",
      "XGBoost\n",
      "Cross-validation scores:  [0.9772534  0.91938928 0.94803202 0.81162309 0.65720379]  Mean:  0.8627003156856906  Std:  0.11700876483126152\n"
     ]
    }
   ],
   "source": [
    "from sklearn.model_selection import GridSearchCV , RandomizedSearchCV\n",
    "# GridSearchCV it's way to test all the possible combinations of the hyperparameters , it's very slow , but it's guaranteed to find the best hyperparameters\n",
    "# RandomizedSearchCV it's way to test random combinations of the hyperparameters , it's faster than GridSearchCV , but it's not guaranteed to find the best hyperparameters  \n",
    "param_grid = {\n",
    "          'n_estimators': [100, 300, 500],\n",
    "          'max_depth': [3 ,4 , 5,],\n",
    "          'learning_rate': [0.01, 0.1, 0.2] ,\n",
    "          \n",
    "          }\n",
    "grid_search = GridSearchCV(xgb_model, param_grid, cv=5, scoring='r2')\n",
    "grid_search.fit(X_train, y_train)\n",
    "best_params = grid_search.best_params_\n",
    "best_xgb_model = xgb.XGBRegressor(**best_params)\n",
    "best_xgb_model.fit(X_train, y_train)\n",
    "\n",
    "print(\"XGBoost Grid Search\")\n",
    "\n",
    "print(\"Mean Absolute Percentage Error: \", mean_absolute_percentage_error(y_test, yhat))\n",
    "print(\"Mean Absolute Error: \", mean_absolute_error(y_test, yhat))\n",
    "first_element_prediction = best_xgb_model.predict([X_test.iloc[0]])\n",
    "print(\"Prediction for the first element in X_train: \", first_element_prediction)\n",
    "print(\"Actual value for the first element in X_train: \", y_test.iloc[0])\n",
    "\n",
    "scores = cross_val_score(best_xgb_model, X, y, cv=5 , scoring='r2')\n",
    "print(\"XGBoost\")\n",
    "print(\"Cross-validation scores: \" ,  scores , \" Mean: \", scores.mean() , \" Std: \", scores.std()) \n"
   ]
  },
  {
   "cell_type": "code",
   "execution_count": null,
   "metadata": {},
   "outputs": [],
   "source": []
  }
 ],
 "metadata": {
  "kernelspec": {
   "display_name": "Python 3",
   "language": "python",
   "name": "python3"
  },
  "language_info": {
   "codemirror_mode": {
    "name": "ipython",
    "version": 3
   },
   "file_extension": ".py",
   "mimetype": "text/x-python",
   "name": "python",
   "nbconvert_exporter": "python",
   "pygments_lexer": "ipython3",
   "version": "3.12.4"
  }
 },
 "nbformat": 4,
 "nbformat_minor": 2
}
